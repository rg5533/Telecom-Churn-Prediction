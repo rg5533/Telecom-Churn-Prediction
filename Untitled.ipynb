{
 "cells": [
  {
   "cell_type": "code",
   "execution_count": 27,
   "id": "85451c34",
   "metadata": {},
   "outputs": [],
   "source": [
    "# This Python 3 environment comes with many helpful analytics libraries installed\n",
    "# It is defined by the kaggle/python Docker image: https://github.com/kaggle/docker-python\n",
    "# For example, here's several helpful packages to load\n",
    "\n",
    "import numpy as np # linear algebra\n",
    "import pandas as pd # data processing, CSV file I/O (e.g. pd.read_csv)\n",
    "\n",
    "# Input data files are available in the read-only \"../input/\" directory\n",
    "# For example, running this (by clicking run or pressing Shift+Enter) will list all files under the input directory\n",
    "\n",
    "import matplotlib.pyplot as plt # for visualization\n",
    "import seaborn as sns # for visualization\n",
    "\n",
    "from collections import Counter\n",
    "\n",
    "import warnings\n",
    "warnings.filterwarnings(\"ignore\") #Ignore certain system-wide alerts\n",
    "\n",
    "# You can write up to 20GB to the current directory (/kaggle/working/) that gets preserved as output when you create a version using \"Save & Run All\" \n",
    "# You can also write temporary files to /kaggle/temp/, but they won't be saved outside of the current session\n",
    "\n",
    "pd.set_option('display.max_rows', None)\n",
    "\n",
    "pd.set_option('display.max_columns', None)"
   ]
  },
  {
   "cell_type": "code",
   "execution_count": 4,
   "id": "e4bbe35a",
   "metadata": {},
   "outputs": [],
   "source": [
    "def remove_columns_with_missing_values(df: pd.DataFrame = None):\n",
    "    missing_percentage_cap = 5\n",
    "    columns_with_more_than_5_percent_data = []\n",
    "    for col in df.columns:\n",
    "        if ((df[col].isnull().sum()) / len(df)) * 100 > 5:\n",
    "            columns_with_more_than_5_percent_data.append(col)\n",
    "    df.drop(columns_with_more_than_5_percent_data, axis=1, inplace=True)\n",
    "    return df"
   ]
  },
  {
   "cell_type": "code",
   "execution_count": 17,
   "id": "251e67cd",
   "metadata": {},
   "outputs": [],
   "source": [
    "def impute_columns_with_missing_values(df: pd.DataFrame = None):\n",
    "    for col in df.columns:\n",
    "        if df[col].dtype == \"object\":\n",
    "            df[col] = df[col].fillna(df[col].mode()[0])\n",
    "        else:\n",
    "            df[col] = df[col].fillna(df[col].mean())\n",
    "    return df"
   ]
  },
  {
   "cell_type": "code",
   "execution_count": 18,
   "id": "4a332243",
   "metadata": {},
   "outputs": [],
   "source": [
    "def clean_data(df: pd.DataFrame = None):\n",
    "    df.drop([\"Customer_ID\"], axis = 1, inplace=True)\n",
    "    df = remove_columns_with_missing_values(df)\n",
    "    df = impute_columns_with_missing_values(df)\n",
    "    return df"
   ]
  },
  {
   "cell_type": "code",
   "execution_count": 19,
   "id": "6de04793",
   "metadata": {},
   "outputs": [
    {
     "data": {
      "text/html": [
       "<div>\n",
       "<style scoped>\n",
       "    .dataframe tbody tr th:only-of-type {\n",
       "        vertical-align: middle;\n",
       "    }\n",
       "\n",
       "    .dataframe tbody tr th {\n",
       "        vertical-align: top;\n",
       "    }\n",
       "\n",
       "    .dataframe thead th {\n",
       "        text-align: right;\n",
       "    }\n",
       "</style>\n",
       "<table border=\"1\" class=\"dataframe\">\n",
       "  <thead>\n",
       "    <tr style=\"text-align: right;\">\n",
       "      <th></th>\n",
       "      <th>rev_Mean</th>\n",
       "      <th>mou_Mean</th>\n",
       "      <th>totmrc_Mean</th>\n",
       "      <th>da_Mean</th>\n",
       "      <th>ovrmou_Mean</th>\n",
       "      <th>ovrrev_Mean</th>\n",
       "      <th>vceovr_Mean</th>\n",
       "      <th>datovr_Mean</th>\n",
       "      <th>roam_Mean</th>\n",
       "      <th>change_mou</th>\n",
       "      <th>...</th>\n",
       "      <th>marital</th>\n",
       "      <th>forgntvl</th>\n",
       "      <th>ethnic</th>\n",
       "      <th>kid0_2</th>\n",
       "      <th>kid3_5</th>\n",
       "      <th>kid6_10</th>\n",
       "      <th>kid11_15</th>\n",
       "      <th>kid16_17</th>\n",
       "      <th>creditcd</th>\n",
       "      <th>eqpdays</th>\n",
       "    </tr>\n",
       "  </thead>\n",
       "  <tbody>\n",
       "    <tr>\n",
       "      <th>0</th>\n",
       "      <td>23.9975</td>\n",
       "      <td>219.25</td>\n",
       "      <td>22.500</td>\n",
       "      <td>0.2475</td>\n",
       "      <td>0.00</td>\n",
       "      <td>0.0</td>\n",
       "      <td>0.0</td>\n",
       "      <td>0.0</td>\n",
       "      <td>0.0</td>\n",
       "      <td>-157.25</td>\n",
       "      <td>...</td>\n",
       "      <td>S</td>\n",
       "      <td>0.0</td>\n",
       "      <td>N</td>\n",
       "      <td>U</td>\n",
       "      <td>U</td>\n",
       "      <td>U</td>\n",
       "      <td>U</td>\n",
       "      <td>U</td>\n",
       "      <td>Y</td>\n",
       "      <td>361.0</td>\n",
       "    </tr>\n",
       "    <tr>\n",
       "      <th>1</th>\n",
       "      <td>57.4925</td>\n",
       "      <td>482.75</td>\n",
       "      <td>37.425</td>\n",
       "      <td>0.2475</td>\n",
       "      <td>22.75</td>\n",
       "      <td>9.1</td>\n",
       "      <td>9.1</td>\n",
       "      <td>0.0</td>\n",
       "      <td>0.0</td>\n",
       "      <td>532.25</td>\n",
       "      <td>...</td>\n",
       "      <td>S</td>\n",
       "      <td>0.0</td>\n",
       "      <td>Z</td>\n",
       "      <td>U</td>\n",
       "      <td>U</td>\n",
       "      <td>U</td>\n",
       "      <td>U</td>\n",
       "      <td>U</td>\n",
       "      <td>Y</td>\n",
       "      <td>240.0</td>\n",
       "    </tr>\n",
       "    <tr>\n",
       "      <th>2</th>\n",
       "      <td>16.9900</td>\n",
       "      <td>10.25</td>\n",
       "      <td>16.990</td>\n",
       "      <td>0.0000</td>\n",
       "      <td>0.00</td>\n",
       "      <td>0.0</td>\n",
       "      <td>0.0</td>\n",
       "      <td>0.0</td>\n",
       "      <td>0.0</td>\n",
       "      <td>-4.25</td>\n",
       "      <td>...</td>\n",
       "      <td>M</td>\n",
       "      <td>0.0</td>\n",
       "      <td>N</td>\n",
       "      <td>U</td>\n",
       "      <td>Y</td>\n",
       "      <td>U</td>\n",
       "      <td>U</td>\n",
       "      <td>U</td>\n",
       "      <td>Y</td>\n",
       "      <td>1504.0</td>\n",
       "    </tr>\n",
       "    <tr>\n",
       "      <th>3</th>\n",
       "      <td>38.0000</td>\n",
       "      <td>7.50</td>\n",
       "      <td>38.000</td>\n",
       "      <td>0.0000</td>\n",
       "      <td>0.00</td>\n",
       "      <td>0.0</td>\n",
       "      <td>0.0</td>\n",
       "      <td>0.0</td>\n",
       "      <td>0.0</td>\n",
       "      <td>-1.50</td>\n",
       "      <td>...</td>\n",
       "      <td>M</td>\n",
       "      <td>0.0</td>\n",
       "      <td>U</td>\n",
       "      <td>Y</td>\n",
       "      <td>U</td>\n",
       "      <td>U</td>\n",
       "      <td>U</td>\n",
       "      <td>U</td>\n",
       "      <td>Y</td>\n",
       "      <td>1812.0</td>\n",
       "    </tr>\n",
       "    <tr>\n",
       "      <th>4</th>\n",
       "      <td>55.2300</td>\n",
       "      <td>570.50</td>\n",
       "      <td>71.980</td>\n",
       "      <td>0.0000</td>\n",
       "      <td>0.00</td>\n",
       "      <td>0.0</td>\n",
       "      <td>0.0</td>\n",
       "      <td>0.0</td>\n",
       "      <td>0.0</td>\n",
       "      <td>38.50</td>\n",
       "      <td>...</td>\n",
       "      <td>S</td>\n",
       "      <td>0.0</td>\n",
       "      <td>I</td>\n",
       "      <td>U</td>\n",
       "      <td>U</td>\n",
       "      <td>U</td>\n",
       "      <td>U</td>\n",
       "      <td>U</td>\n",
       "      <td>Y</td>\n",
       "      <td>434.0</td>\n",
       "    </tr>\n",
       "  </tbody>\n",
       "</table>\n",
       "<p>5 rows × 88 columns</p>\n",
       "</div>"
      ],
      "text/plain": [
       "   rev_Mean  mou_Mean  totmrc_Mean  da_Mean  ovrmou_Mean  ovrrev_Mean  \\\n",
       "0   23.9975    219.25       22.500   0.2475         0.00          0.0   \n",
       "1   57.4925    482.75       37.425   0.2475        22.75          9.1   \n",
       "2   16.9900     10.25       16.990   0.0000         0.00          0.0   \n",
       "3   38.0000      7.50       38.000   0.0000         0.00          0.0   \n",
       "4   55.2300    570.50       71.980   0.0000         0.00          0.0   \n",
       "\n",
       "   vceovr_Mean  datovr_Mean  roam_Mean  change_mou  ...  marital  forgntvl  \\\n",
       "0          0.0          0.0        0.0     -157.25  ...        S       0.0   \n",
       "1          9.1          0.0        0.0      532.25  ...        S       0.0   \n",
       "2          0.0          0.0        0.0       -4.25  ...        M       0.0   \n",
       "3          0.0          0.0        0.0       -1.50  ...        M       0.0   \n",
       "4          0.0          0.0        0.0       38.50  ...        S       0.0   \n",
       "\n",
       "   ethnic  kid0_2  kid3_5  kid6_10  kid11_15  kid16_17  creditcd  eqpdays  \n",
       "0       N       U       U        U         U         U         Y    361.0  \n",
       "1       Z       U       U        U         U         U         Y    240.0  \n",
       "2       N       U       Y        U         U         U         Y   1504.0  \n",
       "3       U       Y       U        U         U         U         Y   1812.0  \n",
       "4       I       U       U        U         U         U         Y    434.0  \n",
       "\n",
       "[5 rows x 88 columns]"
      ]
     },
     "execution_count": 19,
     "metadata": {},
     "output_type": "execute_result"
    }
   ],
   "source": [
    "churn_data = pd.read_csv(\"telecom_customer_churn.csv\")\n",
    "df = clean_data(churn_data)\n",
    "\n",
    "df.head()"
   ]
  },
  {
   "cell_type": "code",
   "execution_count": 28,
   "id": "3c01f638",
   "metadata": {
    "scrolled": true
   },
   "outputs": [
    {
     "data": {
      "text/plain": [
       "rev_Mean           0\n",
       "mou_Mean           0\n",
       "totmrc_Mean        0\n",
       "da_Mean            0\n",
       "ovrmou_Mean        0\n",
       "ovrrev_Mean        0\n",
       "vceovr_Mean        0\n",
       "datovr_Mean        0\n",
       "roam_Mean          0\n",
       "change_mou         0\n",
       "change_rev         0\n",
       "drop_vce_Mean      0\n",
       "drop_dat_Mean      0\n",
       "blck_vce_Mean      0\n",
       "blck_dat_Mean      0\n",
       "unan_vce_Mean      0\n",
       "unan_dat_Mean      0\n",
       "plcd_vce_Mean      0\n",
       "plcd_dat_Mean      0\n",
       "recv_vce_Mean      0\n",
       "recv_sms_Mean      0\n",
       "comp_vce_Mean      0\n",
       "comp_dat_Mean      0\n",
       "custcare_Mean      0\n",
       "ccrndmou_Mean      0\n",
       "cc_mou_Mean        0\n",
       "inonemin_Mean      0\n",
       "threeway_Mean      0\n",
       "mou_cvce_Mean      0\n",
       "mou_cdat_Mean      0\n",
       "mou_rvce_Mean      0\n",
       "owylis_vce_Mean    0\n",
       "mouowylisv_Mean    0\n",
       "iwylis_vce_Mean    0\n",
       "mouiwylisv_Mean    0\n",
       "peak_vce_Mean      0\n",
       "peak_dat_Mean      0\n",
       "mou_peav_Mean      0\n",
       "mou_pead_Mean      0\n",
       "opk_vce_Mean       0\n",
       "opk_dat_Mean       0\n",
       "mou_opkv_Mean      0\n",
       "mou_opkd_Mean      0\n",
       "drop_blk_Mean      0\n",
       "attempt_Mean       0\n",
       "complete_Mean      0\n",
       "callfwdv_Mean      0\n",
       "callwait_Mean      0\n",
       "churn              0\n",
       "months             0\n",
       "uniqsubs           0\n",
       "actvsubs           0\n",
       "totcalls           0\n",
       "totmou             0\n",
       "totrev             0\n",
       "adjrev             0\n",
       "adjmou             0\n",
       "adjqty             0\n",
       "avgrev             0\n",
       "avgmou             0\n",
       "avgqty             0\n",
       "avg3mou            0\n",
       "avg3qty            0\n",
       "avg3rev            0\n",
       "avg6mou            0\n",
       "avg6qty            0\n",
       "avg6rev            0\n",
       "hnd_price          0\n",
       "phones             0\n",
       "models             0\n",
       "truck              0\n",
       "rv                 0\n",
       "forgntvl           0\n",
       "eqpdays            0\n",
       "dtype: int64"
      ]
     },
     "execution_count": 28,
     "metadata": {},
     "output_type": "execute_result"
    }
   ],
   "source": [
    "df.select_dtypes(include=['int','float']).isna().sum()"
   ]
  },
  {
   "cell_type": "code",
   "execution_count": 22,
   "id": "01b4482a",
   "metadata": {},
   "outputs": [
    {
     "data": {
      "text/plain": [
       "new_cell      0\n",
       "crclscod      0\n",
       "asl_flag      0\n",
       "area          0\n",
       "dualband      0\n",
       "refurb_new    0\n",
       "marital       0\n",
       "ethnic        0\n",
       "kid0_2        0\n",
       "kid3_5        0\n",
       "kid6_10       0\n",
       "kid11_15      0\n",
       "kid16_17      0\n",
       "creditcd      0\n",
       "dtype: int64"
      ]
     },
     "execution_count": 22,
     "metadata": {},
     "output_type": "execute_result"
    }
   ],
   "source": [
    "df.select_dtypes(include='object').isna().sum()"
   ]
  },
  {
   "cell_type": "code",
   "execution_count": 34,
   "id": "62d6ae26",
   "metadata": {},
   "outputs": [],
   "source": [
    "# def detect_outliers(df):\n",
    "#     outlier_indices = []\n",
    "#     features = df.select_dtypes(include=['int','float'])\n",
    "#     for c in features:\n",
    "#         # 1st quartile\n",
    "#         Q1 = np.percentile(df[c],25)\n",
    "#         # 3rd quartile\n",
    "#         Q3 = np.percentile(df[c],75)\n",
    "#         # IQR\n",
    "#         IQR = Q3 - Q1\n",
    "#         # Outlier step\n",
    "#         outlier_step = IQR * 1.5\n",
    "#         # detect outlier and their indeces\n",
    "#         outlier_list_col = df[(df[c] < Q1 - outlier_step) | (df[c] > Q3 + outlier_step)].index\n",
    "#         # store indeces\n",
    "#         outlier_indices.extend(outlier_list_col)\n",
    "    \n",
    "#     outlier_indices = Counter(outlier_indices)\n",
    "#     multiple_outliers = list(i for i, v in outlier_indices.items() if v > 2)\n",
    "    \n",
    "#     return outlier_indices"
   ]
  },
  {
   "cell_type": "code",
   "execution_count": null,
   "id": "94cab546",
   "metadata": {},
   "outputs": [],
   "source": [
    "# df.loc[detect_outliers(df)]"
   ]
  },
  {
   "cell_type": "code",
   "execution_count": 37,
   "id": "19848b04",
   "metadata": {},
   "outputs": [
    {
     "name": "stdout",
     "output_type": "stream",
     "text": [
      "new_cell --> 3\n",
      "crclscod --> 54\n",
      "asl_flag --> 2\n",
      "area --> 19\n",
      "dualband --> 4\n",
      "refurb_new --> 2\n",
      "marital --> 5\n",
      "ethnic --> 17\n",
      "kid0_2 --> 2\n",
      "kid3_5 --> 2\n",
      "kid6_10 --> 2\n",
      "kid11_15 --> 2\n",
      "kid16_17 --> 2\n",
      "creditcd --> 2\n"
     ]
    }
   ],
   "source": [
    "encoding_col=[]\n",
    "for i in df.select_dtypes(include='object'):   \n",
    "    print(i,'-->',df[i].nunique())\n",
    "    encoding_col.append(i)"
   ]
  },
  {
   "cell_type": "code",
   "execution_count": 38,
   "id": "89bffbb7",
   "metadata": {},
   "outputs": [],
   "source": [
    "df2 = df.copy()\n",
    "df2 = pd.get_dummies(df2, drop_first=True, columns = encoding_col, prefix = encoding_col)"
   ]
  },
  {
   "cell_type": "code",
   "execution_count": 40,
   "id": "b22fd0a1",
   "metadata": {},
   "outputs": [],
   "source": [
    "# Create correlation matrix\n",
    "corr_matrix = df.corr().abs()\n",
    "#print(corr_matrix)\n",
    "\n",
    "# Select upper triangle of correlation matrix\n",
    "upper = corr_matrix.where(np.triu(np.ones(corr_matrix.shape), k=1).astype(np.bool))\n",
    "# print(upper)\n",
    "\n",
    "# Find index of feature columns with correlation greater than equal to 0.9\n",
    "to_drop = [column for column in upper.columns if any(upper[column] >= 0.9)]\n",
    "# Drop features \n",
    "df.drop(df[to_drop], axis=1,inplace=True)"
   ]
  },
  {
   "cell_type": "code",
   "execution_count": 42,
   "id": "078b5ede",
   "metadata": {
    "scrolled": true
   },
   "outputs": [
    {
     "data": {
      "text/plain": [
       "rv                 0.000485\n",
       "recv_sms_Mean      0.000812\n",
       "datovr_Mean        0.001287\n",
       "callfwdv_Mean      0.002248\n",
       "totrev             0.003017\n",
       "blck_dat_Mean      0.004016\n",
       "truck              0.004062\n",
       "unan_dat_Mean      0.004727\n",
       "forgntvl           0.004943\n",
       "mou_pead_Mean      0.005566\n",
       "drop_dat_Mean      0.006223\n",
       "change_rev         0.007796\n",
       "mou_cdat_Mean      0.008252\n",
       "avgrev             0.008780\n",
       "blck_vce_Mean      0.009023\n",
       "roam_Mean          0.009307\n",
       "plcd_dat_Mean      0.009499\n",
       "rev_Mean           0.010863\n",
       "da_Mean            0.013526\n",
       "drop_vce_Mean      0.015261\n",
       "totcalls           0.015780\n",
       "drop_blk_Mean      0.015851\n",
       "avg6rev            0.018483\n",
       "ovrmou_Mean        0.019685\n",
       "actvsubs           0.019686\n",
       "months             0.020991\n",
       "avgqty             0.023752\n",
       "avgmou             0.024022\n",
       "threeway_Mean      0.030657\n",
       "callwait_Mean      0.031082\n",
       "change_mou         0.031393\n",
       "mouowylisv_Mean    0.034914\n",
       "mouiwylisv_Mean    0.035021\n",
       "unan_vce_Mean      0.035560\n",
       "custcare_Mean      0.036393\n",
       "ccrndmou_Mean      0.037890\n",
       "phones             0.039457\n",
       "uniqsubs           0.039882\n",
       "iwylis_vce_Mean    0.040853\n",
       "recv_vce_Mean      0.041779\n",
       "owylis_vce_Mean    0.042065\n",
       "models             0.045065\n",
       "mou_rvce_Mean      0.047148\n",
       "mou_peav_Mean      0.047287\n",
       "opk_vce_Mean       0.047873\n",
       "plcd_vce_Mean      0.048321\n",
       "mou_opkv_Mean      0.048896\n",
       "mou_cvce_Mean      0.052042\n",
       "mou_Mean           0.056925\n",
       "totmrc_Mean        0.068434\n",
       "hnd_price          0.102748\n",
       "eqpdays            0.112691\n",
       "churn              1.000000\n",
       "Name: churn, dtype: float64"
      ]
     },
     "execution_count": 42,
     "metadata": {},
     "output_type": "execute_result"
    }
   ],
   "source": [
    "correlation_with_churn = df.corr()['churn'].abs()\n",
    "sorted_correlation_with_churn = correlation_with_churn.sort_values()\n",
    "sorted_correlation_with_churn"
   ]
  },
  {
   "cell_type": "code",
   "execution_count": 46,
   "id": "1ecaf536",
   "metadata": {},
   "outputs": [
    {
     "data": {
      "text/plain": [
       "<AxesSubplot:>"
      ]
     },
     "execution_count": 46,
     "metadata": {},
     "output_type": "execute_result"
    },
    {
     "data": {
      "image/png": "[encoded data removed]",
      "text/plain": [
       "<Figure size 1500x800 with 1 Axes>"
      ]
     },
     "metadata": {},
     "output_type": "display_data"
    }
   ],
   "source": [
    "top_40_most_correlated_columns_dict = dict(sorted_correlation_with_churn.tail(40))\n",
    "top_40_most_correlated_columns = top_40_most_correlated_columns_dict.keys()\n",
    "# print(sorted(top_40_most_correlated_columns))\n",
    "\n",
    "# Get Correlation of \"churn\" with other variables:\n",
    "plt.figure(figsize=(15,8))\n",
    "df2[top_40_most_correlated_columns].corr()['churn'].sort_values(ascending = False).plot(kind='bar')"
   ]
  },
  {
   "cell_type": "code",
   "execution_count": 54,
   "id": "a19fdbfa",
   "metadata": {},
   "outputs": [
    {
     "name": "stdout",
     "output_type": "stream",
     "text": [
      "Collecting xgboost\n",
      "  Downloading xgboost-1.7.3-py3-none-win_amd64.whl (89.1 MB)\n",
      "     ---------------------------------------- 89.1/89.1 MB 3.1 MB/s eta 0:00:00\n",
      "Requirement already satisfied: numpy in c:\\users\\rohit\\anaconda3\\lib\\site-packages (from xgboost) (1.21.5)\n",
      "Requirement already satisfied: scipy in c:\\users\\rohit\\anaconda3\\lib\\site-packages (from xgboost) (1.9.3)\n",
      "Installing collected packages: xgboost\n",
      "Successfully installed xgboost-1.7.3\n"
     ]
    }
   ],
   "source": [
    "!pip install xgboost"
   ]
  },
  {
   "cell_type": "code",
   "execution_count": 55,
   "id": "f1ad9e26",
   "metadata": {},
   "outputs": [],
   "source": [
    "# Import Machine learning algorithms\n",
    "from sklearn.ensemble import RandomForestClassifier\n",
    "from xgboost import XGBClassifier\n",
    "# from sklearn.tree import DecisionTreeClassifier\n",
    "# from sklearn.naive_bayes import GaussianNB\n",
    "# from sklearn.ensemble import AdaBoostClassifier\n",
    "# from sklearn.ensemble import GradientBoostingClassifier\n",
    "\n",
    "#Import metric for performance evaluation\n",
    "from sklearn.metrics import accuracy_score, precision_score, recall_score, f1_score, classification_report,confusion_matrix, ConfusionMatrixDisplay\n",
    "\n",
    "#Split data into train and test sets\n",
    "from sklearn.model_selection import train_test_split, cross_val_score, StratifiedKFold, GridSearchCV"
   ]
  },
  {
   "cell_type": "code",
   "execution_count": 49,
   "id": "d49efd44",
   "metadata": {},
   "outputs": [
    {
     "name": "stdout",
     "output_type": "stream",
     "text": [
      "X_train 80000\n",
      "X_test 20000\n",
      "y_train 80000\n",
      "y_test 20000\n"
     ]
    }
   ],
   "source": [
    "# dependent and independent variables were determined.\n",
    "X = df2.drop('churn', axis=1)\n",
    "y = df2['churn']\n",
    "\n",
    "X_train, X_test, y_train, y_test = train_test_split(X, y, test_size=0.2, random_state=42)\n",
    "print(\"X_train\",len(X_train))\n",
    "print(\"X_test\",len(X_test))\n",
    "print(\"y_train\",len(y_train))\n",
    "print(\"y_test\",len(y_test))"
   ]
  },
  {
   "cell_type": "code",
   "execution_count": 50,
   "id": "26e74abc",
   "metadata": {},
   "outputs": [],
   "source": [
    "from sklearn.preprocessing import StandardScaler\n",
    "sc = StandardScaler()\n",
    "X_train = sc.fit_transform(X_train)\n",
    "X_test = sc.transform(X_test)"
   ]
  },
  {
   "cell_type": "code",
   "execution_count": 83,
   "id": "7074fb5e",
   "metadata": {},
   "outputs": [],
   "source": [
    "#Defining the modelling function\n",
    "def modeling(alg, alg_name, params={}):\n",
    "    model = alg(**params) #Instantiating the algorithm class and unpacking parameters if any\n",
    "    model.fit(X_train, y_train)\n",
    "    y_pred = model.predict(X_test)\n",
    "      \n",
    "    #Performance evaluation\n",
    "    def print_scores(alg, y_true, y_pred):\n",
    "        print(alg_name)\n",
    "        acc_score = accuracy_score(y_true, y_pred)\n",
    "        print(\"accuracy: \",acc_score)\n",
    "        pre_score = precision_score(y_true, y_pred)\n",
    "        print(\"precision: \",pre_score)\n",
    "        rec_score = recall_score(y_true, y_pred)                            \n",
    "        print(\"recall: \",rec_score)\n",
    "        f_score = f1_score(y_true, y_pred, average='weighted')\n",
    "        print(\"f1_score: \",f_score)        \n",
    "    print_scores(alg, y_test, y_pred)\n",
    "    \n",
    "    \n",
    "    cm = confusion_matrix(y_test, y_pred)\n",
    "    #Create the Confusion Matrix Display Object(cmd_obj). \n",
    "    cmd_obj = ConfusionMatrixDisplay(cm, display_labels=['churn', 'notChurn'])\n",
    "\n",
    "    #The plot() function has to be called for the sklearn visualization\n",
    "    cmd_obj.plot()\n",
    "\n",
    "    #Use the Axes attribute 'ax_' to get to the underlying Axes object.\n",
    "    #The Axes object controls the labels for the X and the Y axes. It also controls the title.\n",
    "    cmd_obj.ax_.set(\n",
    "                    title='Sklearn Confusion Matrix with labels!!', \n",
    "                    xlabel='Predicted Churn', \n",
    "                    ylabel='Actual Churn')\n",
    "    #Finally, call the matplotlib show() function to display the visualization of the Confusion Matrix.\n",
    "    plt.show()\n",
    "    \n",
    "    return model"
   ]
  },
  {
   "cell_type": "code",
   "execution_count": 84,
   "id": "25203a46",
   "metadata": {},
   "outputs": [
    {
     "name": "stdout",
     "output_type": "stream",
     "text": [
      "Random Forest\n",
      "accuracy:  0.6203\n",
      "precision:  0.6225968952400535\n",
      "recall:  0.6068744363162641\n",
      "f1_score:  0.6202296567655304\n",
      "[[6350 3671]\n",
      " [3923 6056]]\n"
     ]
    }
   ],
   "source": [
    "RF_model = modeling(RandomForestClassifier, 'Random Forest', )"
   ]
  },
  {
   "cell_type": "code",
   "execution_count": 74,
   "id": "18666c04",
   "metadata": {},
   "outputs": [
    {
     "name": "stdout",
     "output_type": "stream",
     "text": [
      "XGBoost Classifier\n",
      "accuracy:  0.6406\n",
      "precision:  0.6349221695832931\n",
      "recall:  0.6580819721414971\n",
      "f1_score:  0.6404946613071574\n"
     ]
    },
    {
     "data": {
      "image/png": "[encoded data removed]",
      "text/plain": [
       "<Figure size 640x480 with 2 Axes>"
      ]
     },
     "metadata": {},
     "output_type": "display_data"
    }
   ],
   "source": [
    "param_2 = {'booster': 'dart',\n",
    "         'max_depth': 8, 'learning_rate': 0.1,\n",
    "         'objective': 'binary:logistic',\n",
    "         'sample_type': 'weighted',#select dropped trees based on weight\n",
    "         'normalize_type': 'tree',\n",
    "         'rate_drop': 0.1,\n",
    "         'skip_drop': 0.5}\n",
    "XG_model = modeling(XGBClassifier, 'XGBoost Classifier', param_2)"
   ]
  },
  {
   "cell_type": "code",
   "execution_count": 75,
   "id": "e770d087",
   "metadata": {},
   "outputs": [
    {
     "data": {
      "image/png": "[encoded data removed]",
      "text/plain": [
       "<Figure size 640x480 with 1 Axes>"
      ]
     },
     "metadata": {},
     "output_type": "display_data"
    },
    {
     "name": "stdout",
     "output_type": "stream",
     "text": [
      "FPR: [0.        0.3768087 1.       ]\n",
      "TPR: [0.         0.65808197 1.        ]\n"
     ]
    }
   ],
   "source": [
    "from sklearn.metrics import roc_auc_score, roc_curve\n",
    "import xgboost as xgb\n",
    "\n",
    "def plot_roc_auc(model, X, y, target_var):\n",
    "    # Make predictions for the dataset\n",
    "    y_pred = model.predict(X)\n",
    "    \n",
    "    # Compute the fpr, tpr and threshold for the ROC curve\n",
    "    fpr, tpr, threshold = roc_curve(y, y_pred)\n",
    "    \n",
    "    # Compute the AUC score\n",
    "    auc = roc_auc_score(y, y_pred)\n",
    "    \n",
    "    # Plot the ROC curve\n",
    "    plt.figure()\n",
    "    plt.plot(fpr, tpr, label='ROC curve (area = %0.2f)' % auc)\n",
    "    plt.plot([0, 1], [0, 1], 'k--')\n",
    "    plt.xlim([0.0, 1.0])\n",
    "    plt.ylim([0.0, 1.05])\n",
    "    plt.xlabel('False Positive Rate')\n",
    "    plt.ylabel('True Positive Rate')\n",
    "    plt.title('ROC AUC for ' + target_var)\n",
    "    plt.legend(loc=\"lower right\")\n",
    "    plt.show()\n",
    "    print(\"FPR:\", fpr)\n",
    "    print(\"TPR:\", tpr)\n",
    "\n",
    "# Plot the ROC AUC curve\n",
    "plot_roc_auc(XG_model, X_test, y_test, 'target variable')"
   ]
  },
  {
   "cell_type": "code",
   "execution_count": 85,
   "id": "fc326d8a",
   "metadata": {},
   "outputs": [],
   "source": [
    "from sklearn.ensemble import RandomForestClassifier\n",
    "from sklearn.metrics import make_scorer, accuracy_score\n",
    "from sklearn.model_selection import GridSearchCV\n",
    "import xgboost as xgb\n",
    "\n",
    "def hyperparameter_tuning(model, X_train, y_train, param_grid):\n",
    "    \"\"\"\n",
    "    Function for hyperparameter tuning of a given model using GridSearchCV.\n",
    "    model: string, 'RF' for RandomForest or 'XGB' for XGBoost\n",
    "    X_train: numpy array or pandas dataframe, training features\n",
    "    y_train: numpy array or pandas series, training labels\n",
    "    param_grid: dictionary, containing the hyperparameters and their possible values\n",
    "    \"\"\"\n",
    "    if model == 'RF':\n",
    "        # Initialize the model\n",
    "        clf = RandomForestClassifier()\n",
    "    elif model == 'XGB':\n",
    "        # Initialize the model\n",
    "        clf = xgb.XGBClassifier()\n",
    "    else:\n",
    "        raise ValueError(\"Invalid model type. Please use 'RF' for Random Forest or 'XGB' for XGBoost.\")\n",
    "    \n",
    "    # Define the scoring metric\n",
    "    scoring = {'acc': make_scorer(accuracy_score)}\n",
    "    grid_search = GridSearchCV(clf, param_grid, cv=5, scoring=scoring, refit='acc', return_train_score=True, n_jobs=-1)\n",
    "    grid_search.fit(X_train, y_train)\n",
    "    \n",
    "    # Print the best parameters and best score\n",
    "    print(\"Best Parameters:\", grid_search.best_params_)\n",
    "    print(\"Best Score:\", grid_search.best_score_)\n",
    "    return grid_search"
   ]
  },
  {
   "cell_type": "code",
   "execution_count": null,
   "id": "dfd2477f",
   "metadata": {},
   "outputs": [
    {
     "name": "stdout",
     "output_type": "stream",
     "text": [
      "Best Parameters: {'max_depth': 20, 'min_samples_leaf': 4, 'min_samples_split': 10, 'n_estimators': 200}\n",
      "Best Score: 0.623825\n"
     ]
    }
   ],
   "source": [
    "# Define the hyperparameter grid for Random Forest\n",
    "param_grid_rf = {'n_estimators': [50, 100, 200],\n",
    "                 'max_depth': [5, 10, 20],\n",
    "                 'min_samples_split': [2, 5, 10],\n",
    "                 'min_samples_leaf': [1, 2, 4]}\n",
    "\n",
    "# Hyperparameter tuning for Random Forest\n",
    "grid_search_rf = hyperparameter_tuning('RF', X_train, y_train, param_grid_rf)\n",
    "\n",
    "# Define the hyperparameter grid for XGBoost\n",
    "param_grid_xgb = {'max_depth': [5, 10, 20],\n",
    "                  'learning_rate': [0.1, 0.01, 0.001],\n",
    "                  'n_estimators': [50, 100, 200],\n",
    "                  'subsample': [0.8, 0.9, 1.0],\n",
    "                  'colsample_bytree': [0.8, 0.9, 1.0],\n",
    "                  'reg_alpha': [0.1, 1, 10],\n",
    "                  'reg_lambda': [0.1, 1, 10]}\n",
    "\n",
    "# Hyperparameter tuning for XGBoost\n",
    "grid_search_xgb = hyperparameter_tuning('XGB', X_train, y_train, param_grid_xgb)"
   ]
  }
 ],
 "metadata": {
  "kernelspec": {
   "display_name": "Python 3 (ipykernel)",
   "language": "python",
   "name": "python3"
  },
  "language_info": {
   "codemirror_mode": {
    "name": "ipython",
    "version": 3
   },
   "file_extension": ".py",
   "mimetype": "text/x-python",
   "name": "python",
   "nbconvert_exporter": "python",
   "pygments_lexer": "ipython3",
   "version": "3.9.15"
  }
 },
 "nbformat": 4,
 "nbformat_minor": 5
}
